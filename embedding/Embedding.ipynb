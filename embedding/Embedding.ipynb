{
 "cells": [
  {
   "cell_type": "code",
   "execution_count": 1,
   "metadata": {},
   "outputs": [
    {
     "name": "stderr",
     "output_type": "stream",
     "text": [
      "Using TensorFlow backend.\n"
     ]
    }
   ],
   "source": [
    "import json\n",
    "import string\n",
    "from keras.preprocessing.text import text_to_word_sequence\n",
    "from keras.preprocessing.text import Tokenizer\n",
    "\n",
    "import numpy as np\n",
    "from keras.preprocessing.text import one_hot\n",
    "from keras.preprocessing.sequence import pad_sequences\n",
    "from keras.models import Sequential\n",
    "from keras.layers import Dense\n",
    "from keras.layers import Flatten\n",
    "from keras.layers.embeddings import Embedding"
   ]
  },
  {
   "cell_type": "code",
   "execution_count": 2,
   "metadata": {
    "collapsed": true
   },
   "outputs": [],
   "source": [
    "num_words = 10000\n",
    "def create_tokenizer(num_words):\n",
    "\n",
    "    with open('annotations/captions_train2017.json', 'r') as f:\n",
    "        datastore = json.load(f)\n",
    "        \n",
    "    exclude = set(string.punctuation) \n",
    "    exclude.remove(\"'\")\n",
    "\n",
    "    aggregated = {}\n",
    "    caption_list =  []\n",
    "    image_id = []\n",
    "    for captions in datastore['annotations']:\n",
    "        s = captions['caption']\n",
    "        s = ''.join(ch for ch in s if ch not in exclude)\n",
    "        s = \"SS \" + s + \" EE\"\n",
    "        caption_list.append(s)\n",
    "        image_id.append(captions['image_id'])\n",
    "        \n",
    "        if captions['image_id'] not in aggregated:\n",
    "            aggregated[captions['image_id']] = [s]\n",
    "        else:\n",
    "            aggregated[captions['image_id']].append(s) \n",
    "        \n",
    " \n",
    "    return caption_list, image_id"
   ]
  },
  {
   "cell_type": "code",
   "execution_count": 3,
   "metadata": {
    "collapsed": true
   },
   "outputs": [],
   "source": [
    "caption_list, train_image_id = create_tokenizer(10000)"
   ]
  },
  {
   "cell_type": "code",
   "execution_count": 6,
   "metadata": {},
   "outputs": [
    {
     "data": {
      "text/plain": [
       "['SS A bicycle replica with a clock as the front wheel EE',\n",
       " 'SS A room with blue walls and a white sink and door EE',\n",
       " 'SS A car that seems to be parked illegally behind a legally parked car EE',\n",
       " 'SS A large passenger airplane flying through the air EE',\n",
       " 'SS There is a GOL plane taking off in a partly cloudy sky EE',\n",
       " 'SS Blue and white color scheme in a small bathroom EE',\n",
       " 'SS This is a blue and white bathroom with a wall sink and a lifesaver on the wall EE',\n",
       " 'SS A blue boat themed bathroom with a life preserver on the wall EE',\n",
       " 'SS The bike has a clock as a tire EE',\n",
       " 'SS two cars parked on the sidewalk on the street EE']"
      ]
     },
     "execution_count": 6,
     "metadata": {},
     "output_type": "execute_result"
    }
   ],
   "source": [
    "caption_list[0:10]"
   ]
  },
  {
   "cell_type": "code",
   "execution_count": 4,
   "metadata": {},
   "outputs": [],
   "source": [
    "t = Tokenizer(num_words = 10000)\n",
    "t.fit_on_texts(caption_list)\n",
    "encoded_docs = t.texts_to_sequences(caption_list)"
   ]
  },
  {
   "cell_type": "code",
   "execution_count": 28,
   "metadata": {
    "collapsed": true
   },
   "outputs": [],
   "source": [
    "used_words =  [item for sublist in encoded_docs for item in sublist]\n",
    "used_words = set(used_words)"
   ]
  },
  {
   "cell_type": "code",
   "execution_count": 20,
   "metadata": {
    "collapsed": true
   },
   "outputs": [],
   "source": [
    "vocab_size = 10000"
   ]
  },
  {
   "cell_type": "code",
   "execution_count": 11,
   "metadata": {},
   "outputs": [
    {
     "name": "stdout",
     "output_type": "stream",
     "text": [
      "Loaded 400000 word vectors.\n"
     ]
    }
   ],
   "source": [
    "# load the whole embedding into memory\n",
    "embeddings_index = dict()\n",
    "f = open('glove.6B.100d.txt')\n",
    "for line in f:\n",
    "\tvalues = line.split()\n",
    "\tword = values[0]\n",
    "\tcoefs = np.array(values[1:], dtype='float32')\n",
    "\tembeddings_index[word] = coefs\n",
    "f.close()\n",
    "print('Loaded %s word vectors.' % len(embeddings_index))"
   ]
  },
  {
   "cell_type": "code",
   "execution_count": 32,
   "metadata": {
    "collapsed": true
   },
   "outputs": [],
   "source": [
    "# create a weight matrix for words in training docs\n",
    "embedding_matrix = np.zeros((vocab_size, 100))\n",
    "for word, i in t.word_index.items():\n",
    "    if i in used_words:\n",
    "        embedding_vector = embeddings_index.get(word)\n",
    "        if embedding_vector is not None:\n",
    "            embedding_matrix[i] = embedding_vector"
   ]
  },
  {
   "cell_type": "code",
   "execution_count": 35,
   "metadata": {},
   "outputs": [
    {
     "data": {
      "text/plain": [
       "(10000, 100)"
      ]
     },
     "execution_count": 35,
     "metadata": {},
     "output_type": "execute_result"
    }
   ],
   "source": [
    "embedding_matrix.shape"
   ]
  },
  {
   "cell_type": "code",
   "execution_count": null,
   "metadata": {
    "collapsed": true
   },
   "outputs": [],
   "source": [
    "#decoder_embedding = Embedding(input_dim=10000,\n",
    "#                              output_dim=100,\n",
    "#                               weights=[embedding_matrix])"
   ]
  }
 ],
 "metadata": {
  "kernelspec": {
   "display_name": "Python 3",
   "language": "python",
   "name": "python3"
  },
  "language_info": {
   "codemirror_mode": {
    "name": "ipython",
    "version": 3
   },
   "file_extension": ".py",
   "mimetype": "text/x-python",
   "name": "python",
   "nbconvert_exporter": "python",
   "pygments_lexer": "ipython3",
   "version": "3.5.3"
  }
 },
 "nbformat": 4,
 "nbformat_minor": 2
}
