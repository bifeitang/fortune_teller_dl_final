{
 "cells": [
  {
   "cell_type": "code",
   "execution_count": 1,
   "metadata": {},
   "outputs": [
    {
     "name": "stderr",
     "output_type": "stream",
     "text": [
      "Using TensorFlow backend.\n"
     ]
    }
   ],
   "source": [
    "from keras.applications import VGG16"
   ]
  },
  {
   "cell_type": "code",
   "execution_count": 2,
   "metadata": {
    "collapsed": true
   },
   "outputs": [],
   "source": [
    "import keras\n",
    "from keras.models import Model"
   ]
  },
  {
   "cell_type": "code",
   "execution_count": 3,
   "metadata": {
    "collapsed": true
   },
   "outputs": [],
   "source": [
    "import h5py\n",
    "import pickle\n",
    "from PIL import Image\n",
    "import matplotlib.pyplot as plt"
   ]
  },
  {
   "cell_type": "code",
   "execution_count": 5,
   "metadata": {},
   "outputs": [],
   "source": [
    "# load validation image\n",
    "h5f = h5py.File('val_image.h5','r')\n",
    "val_x = h5f['val_image'][:]\n",
    "h5f.close()"
   ]
  },
  {
   "cell_type": "code",
   "execution_count": 6,
   "metadata": {
    "collapsed": true
   },
   "outputs": [],
   "source": [
    "with open(\"val_caption.pkl\", \"rb\") as input_file:\n",
    "    val_y = pickle.load(input_file)"
   ]
  },
  {
   "cell_type": "code",
   "execution_count": 7,
   "metadata": {
    "collapsed": true
   },
   "outputs": [],
   "source": [
    "image_model = VGG16(include_top=True, weights=None)\n",
    "image_model.load_weights('vgg16_weights_tf_dim_ordering_tf_kernels.h5')"
   ]
  },
  {
   "cell_type": "code",
   "execution_count": 8,
   "metadata": {},
   "outputs": [
    {
     "name": "stdout",
     "output_type": "stream",
     "text": [
      "_________________________________________________________________\n",
      "Layer (type)                 Output Shape              Param #   \n",
      "=================================================================\n",
      "input_1 (InputLayer)         (None, 224, 224, 3)       0         \n",
      "_________________________________________________________________\n",
      "block1_conv1 (Conv2D)        (None, 224, 224, 64)      1792      \n",
      "_________________________________________________________________\n",
      "block1_conv2 (Conv2D)        (None, 224, 224, 64)      36928     \n",
      "_________________________________________________________________\n",
      "block1_pool (MaxPooling2D)   (None, 112, 112, 64)      0         \n",
      "_________________________________________________________________\n",
      "block2_conv1 (Conv2D)        (None, 112, 112, 128)     73856     \n",
      "_________________________________________________________________\n",
      "block2_conv2 (Conv2D)        (None, 112, 112, 128)     147584    \n",
      "_________________________________________________________________\n",
      "block2_pool (MaxPooling2D)   (None, 56, 56, 128)       0         \n",
      "_________________________________________________________________\n",
      "block3_conv1 (Conv2D)        (None, 56, 56, 256)       295168    \n",
      "_________________________________________________________________\n",
      "block3_conv2 (Conv2D)        (None, 56, 56, 256)       590080    \n",
      "_________________________________________________________________\n",
      "block3_conv3 (Conv2D)        (None, 56, 56, 256)       590080    \n",
      "_________________________________________________________________\n",
      "block3_pool (MaxPooling2D)   (None, 28, 28, 256)       0         \n",
      "_________________________________________________________________\n",
      "block4_conv1 (Conv2D)        (None, 28, 28, 512)       1180160   \n",
      "_________________________________________________________________\n",
      "block4_conv2 (Conv2D)        (None, 28, 28, 512)       2359808   \n",
      "_________________________________________________________________\n",
      "block4_conv3 (Conv2D)        (None, 28, 28, 512)       2359808   \n",
      "_________________________________________________________________\n",
      "block4_pool (MaxPooling2D)   (None, 14, 14, 512)       0         \n",
      "_________________________________________________________________\n",
      "block5_conv1 (Conv2D)        (None, 14, 14, 512)       2359808   \n",
      "_________________________________________________________________\n",
      "block5_conv2 (Conv2D)        (None, 14, 14, 512)       2359808   \n",
      "_________________________________________________________________\n",
      "block5_conv3 (Conv2D)        (None, 14, 14, 512)       2359808   \n",
      "_________________________________________________________________\n",
      "block5_pool (MaxPooling2D)   (None, 7, 7, 512)         0         \n",
      "_________________________________________________________________\n",
      "flatten (Flatten)            (None, 25088)             0         \n",
      "_________________________________________________________________\n",
      "fc1 (Dense)                  (None, 4096)              102764544 \n",
      "_________________________________________________________________\n",
      "fc2 (Dense)                  (None, 4096)              16781312  \n",
      "_________________________________________________________________\n",
      "predictions (Dense)          (None, 1000)              4097000   \n",
      "=================================================================\n",
      "Total params: 138,357,544\n",
      "Trainable params: 138,357,544\n",
      "Non-trainable params: 0\n",
      "_________________________________________________________________\n"
     ]
    }
   ],
   "source": [
    "image_model.summary()"
   ]
  },
  {
   "cell_type": "code",
   "execution_count": 9,
   "metadata": {
    "collapsed": true
   },
   "outputs": [],
   "source": [
    "output_layer = image_model.get_layer('block5_pool')\n",
    "\n",
    "CNN_layer = Model(inputs=image_model.input,\n",
    "                             outputs=output_layer.output)"
   ]
  },
  {
   "cell_type": "code",
   "execution_count": 10,
   "metadata": {
    "collapsed": true
   },
   "outputs": [],
   "source": [
    "y = CNN_layer.predict(val_x[0:100])"
   ]
  },
  {
   "cell_type": "code",
   "execution_count": 11,
   "metadata": {},
   "outputs": [
    {
     "data": {
      "text/plain": [
       "(100, 7, 7, 512)"
      ]
     },
     "execution_count": 11,
     "metadata": {},
     "output_type": "execute_result"
    }
   ],
   "source": [
    "y.shape"
   ]
  },
  {
   "cell_type": "code",
   "execution_count": 12,
   "metadata": {},
   "outputs": [
    {
     "data": {
      "text/plain": [
       "array([[[ 0.62810922,  0.        ,  0.        , ...,  0.        ,\n",
       "          0.85726446,  0.        ],\n",
       "        [ 0.        ,  0.        ,  0.        , ...,  0.        ,\n",
       "          0.93870705,  0.        ],\n",
       "        [ 0.        ,  0.        ,  0.        , ...,  0.        ,\n",
       "          0.95924866,  0.        ],\n",
       "        ..., \n",
       "        [ 0.20017585,  0.        ,  0.        , ...,  0.        ,\n",
       "          0.42394951,  0.        ],\n",
       "        [ 0.        ,  0.        ,  0.        , ...,  0.        ,\n",
       "          0.29440886,  0.        ],\n",
       "        [ 0.30682075,  0.        ,  0.        , ...,  0.        ,\n",
       "          0.2493394 ,  0.        ]],\n",
       "\n",
       "       [[ 0.75588399,  0.        ,  0.        , ...,  0.        ,\n",
       "          0.10259932,  0.        ],\n",
       "        [ 0.        ,  0.        ,  0.        , ...,  0.        ,\n",
       "          0.35906851,  0.        ],\n",
       "        [ 0.        ,  0.        ,  0.        , ...,  0.        ,\n",
       "          0.76943249,  0.        ],\n",
       "        ..., \n",
       "        [ 0.25706083,  0.        ,  0.        , ...,  0.        ,\n",
       "          0.59057504,  0.        ],\n",
       "        [ 0.        ,  0.        ,  0.        , ...,  0.        ,\n",
       "          0.        ,  0.        ],\n",
       "        [ 0.        ,  0.        ,  0.        , ...,  0.        ,\n",
       "          0.31759033,  0.        ]],\n",
       "\n",
       "       [[ 0.2752181 ,  0.        ,  0.        , ...,  0.        ,\n",
       "          0.30566043,  0.        ],\n",
       "        [ 0.        ,  0.        ,  0.        , ...,  0.        ,\n",
       "          0.64199424,  0.        ],\n",
       "        [ 0.        ,  0.        ,  0.        , ...,  0.        ,\n",
       "          0.58880955,  0.        ],\n",
       "        ..., \n",
       "        [ 0.        ,  0.        ,  0.10042289, ...,  0.        ,\n",
       "          0.75437611,  0.        ],\n",
       "        [ 0.        ,  0.        ,  0.        , ...,  0.        ,\n",
       "          0.09115082,  0.        ],\n",
       "        [ 0.13999048,  0.        ,  0.        , ...,  0.        ,\n",
       "          0.40356138,  0.        ]],\n",
       "\n",
       "       ..., \n",
       "       [[ 1.52851713,  0.        ,  0.        , ...,  0.        ,\n",
       "          0.        ,  0.        ],\n",
       "        [ 0.49044368,  0.        ,  0.        , ...,  0.        ,\n",
       "          0.        ,  0.        ],\n",
       "        [ 0.        ,  0.        ,  0.        , ...,  0.        ,\n",
       "          0.12841791,  0.        ],\n",
       "        ..., \n",
       "        [ 0.14531699,  0.        ,  0.55577987, ...,  0.        ,\n",
       "          0.34460226,  0.        ],\n",
       "        [ 1.38219011,  0.        ,  0.31855923, ...,  0.        ,\n",
       "          0.18741524,  0.        ],\n",
       "        [ 2.36634326,  0.        ,  0.31538233, ...,  0.        ,\n",
       "          0.02685857,  0.        ]],\n",
       "\n",
       "       [[ 0.9597795 ,  0.        ,  0.        , ...,  0.        ,\n",
       "          0.60077572,  0.        ],\n",
       "        [ 0.51248753,  0.        ,  0.        , ...,  0.        ,\n",
       "          0.31633982,  0.        ],\n",
       "        [ 0.30463681,  0.        ,  0.        , ...,  0.        ,\n",
       "          0.55861646,  0.        ],\n",
       "        ..., \n",
       "        [ 1.14394736,  0.        ,  0.        , ...,  0.        ,\n",
       "          0.49535924,  0.        ],\n",
       "        [ 1.45771933,  0.        ,  0.18473709, ...,  0.        ,\n",
       "          0.3588846 ,  0.        ],\n",
       "        [ 2.35738039,  0.        ,  0.25822207, ...,  0.25518116,\n",
       "          0.        ,  0.        ]],\n",
       "\n",
       "       [[ 0.37611192,  0.        ,  0.        , ...,  0.        ,\n",
       "          1.0536406 ,  0.        ],\n",
       "        [ 0.24204563,  0.        ,  0.        , ...,  0.        ,\n",
       "          1.05795276,  0.        ],\n",
       "        [ 0.80420333,  0.        ,  0.        , ...,  0.12137958,\n",
       "          1.31372237,  0.        ],\n",
       "        ..., \n",
       "        [ 1.54845297,  0.        ,  0.        , ...,  0.        ,\n",
       "          0.5589546 ,  0.        ],\n",
       "        [ 0.34168118,  0.        ,  0.        , ...,  0.        ,\n",
       "          0.47267324,  0.        ],\n",
       "        [ 0.        ,  0.        ,  0.        , ...,  0.        ,\n",
       "          0.39674205,  0.        ]]], dtype=float32)"
      ]
     },
     "execution_count": 12,
     "metadata": {},
     "output_type": "execute_result"
    }
   ],
   "source": [
    "y[0]"
   ]
  },
  {
   "cell_type": "code",
   "execution_count": null,
   "metadata": {
    "collapsed": true
   },
   "outputs": [],
   "source": []
  }
 ],
 "metadata": {
  "kernelspec": {
   "display_name": "Python 3",
   "language": "python",
   "name": "python3"
  },
  "language_info": {
   "codemirror_mode": {
    "name": "ipython",
    "version": 3
   },
   "file_extension": ".py",
   "mimetype": "text/x-python",
   "name": "python",
   "nbconvert_exporter": "python",
   "pygments_lexer": "ipython3",
   "version": "3.5.3"
  }
 },
 "nbformat": 4,
 "nbformat_minor": 2
}
